{
 "cells": [
  {
   "cell_type": "code",
   "execution_count": 1,
   "id": "41cc48aa-9b7e-4153-ab00-8315e82810ad",
   "metadata": {},
   "outputs": [],
   "source": [
    "# reloads modules when running again\n",
    "%load_ext autoreload\n",
    "%autoreload 2"
   ]
  },
  {
   "cell_type": "code",
   "execution_count": 2,
   "id": "a182af46-1480-4f3a-9374-6645303b95e1",
   "metadata": {},
   "outputs": [],
   "source": [
    "import matplotlib.pyplot as plt\n",
    "import pandas as pd\n",
    "import numpy as np\n",
    "import seaborn as sns\n",
    "import scipy\n",
    "from data_exploration import *\n",
    "from naive_pred import *\n",
    "from statsmodels.tsa.arima.model import ARIMA\n",
    "from statsmodels.tsa.stattools import adfuller\n",
    "from darts.models.forecasting.varima import VARIMA\n",
    "from darts import TimeSeries\n",
    "from datetime import datetime\n",
    "from statsmodels.stats.outliers_influence import variance_inflation_factor\n",
    "\n",
    "\n",
    "import warnings\n",
    "warnings.filterwarnings('ignore')"
   ]
  },
  {
   "cell_type": "markdown",
   "id": "e7c18624-0482-4ffd-9aaf-772f589de65a",
   "metadata": {},
   "source": [
    "## Data loading"
   ]
  },
  {
   "cell_type": "code",
   "execution_count": 3,
   "id": "eaae1d16-8e34-4d64-a8db-dba660e1ec7e",
   "metadata": {},
   "outputs": [],
   "source": [
    "data, metadata = load_data()"
   ]
  },
  {
   "cell_type": "markdown",
   "id": "03436d52-6cdf-469b-b865-e3497e6b113e",
   "metadata": {},
   "source": [
    "## Data preprocessing"
   ]
  },
  {
   "attachments": {},
   "cell_type": "markdown",
   "id": "36cfd8b8-573f-479b-a089-f35672169996",
   "metadata": {},
   "source": [
    "#### Predict by previous sample"
   ]
  },
  {
   "cell_type": "code",
   "execution_count": 4,
   "id": "17058abb-e3a6-411a-8cea-d09be7a45db9",
   "metadata": {},
   "outputs": [],
   "source": [
    "# Add pseudo count\n",
    "# numeric_cols = [col for col in data.columns if pd.api.types.is_numeric_dtype(data[col]) and col != \"baboon_id\"]\n",
    "# ADDED_VALUE = 0.5 * data[numeric_cols][data[numeric_cols] > 0].min(axis = 1)\n",
    "# data[numeric_cols] = data[numeric_cols].add(ADDED_VALUE, axis = 0)\n",
    "# data[numeric_cols] = data[numeric_cols].div(data[numeric_cols].sum(axis = 1), axis = 0)"
   ]
  },
  {
   "cell_type": "code",
   "execution_count": 5,
   "id": "a9d0870c-d5dc-4540-a868-94802abd241d",
   "metadata": {},
   "outputs": [],
   "source": [
    "for max_gap in [7, 30, 60, 100]:\n",
    "    X,y = shift_i_samples_remove_gaps(data.copy(), max_gap=max_gap)\n",
    "    X = X.drop(columns = [\"sample\", \"baboon_id\", \"collection_date\"])\n",
    "    y = y.drop(columns = [\"sample\", \"baboon_id\", \"collection_date\"])\n",
    "    d_matrix = calc_distance_matrix(X,y, max_gap)\n",
    "    plot_distances(d_matrix, max_gap)"
   ]
  },
  {
   "cell_type": "markdown",
   "id": "0928fc2f-9ccb-4ae1-824b-4fff490107ed",
   "metadata": {},
   "source": [
    "#### ARIMA"
   ]
  },
  {
   "cell_type": "code",
   "execution_count": 6,
   "id": "14ae29d2-3814-4a31-87a0-f73d8f746896",
   "metadata": {
    "scrolled": true
   },
   "outputs": [],
   "source": [
    "numeric_cols = [col for col in data.columns if pd.api.types.is_numeric_dtype(data[col]) and col != \"baboon_id\"]\n",
    "# is_stat = []\n",
    "# for col in numeric_cols:\n",
    "#     col_stat = []\n",
    "#     col_pval = []\n",
    "#     for baboon in data[\"baboon_id\"].unique():\n",
    "#         baboon_data = data[data[\"baboon_id\"]==baboon]\n",
    "#         col_stat.append(adfuller(baboon_data[col])[0])\n",
    "#         col_pval.append(adfuller(baboon_data[col])[1])\n",
    "#     is_stat.append(np.mean(col_pval) < 0.05)\n",
    "#     print(f\"\\n{col}: mean ADF Statistic: {np.mean(col_stat)} mean pval: {np.mean(col_pval) < 0.05}\")\n",
    "# print(len([stat for stat in is_stat if stat]) / len(is_stat))"
   ]
  },
  {
   "cell_type": "code",
   "execution_count": 7,
   "id": "b6c9eefe-c17b-4919-9b54-f56d2be5549d",
   "metadata": {},
   "outputs": [],
   "source": [
    "# y_indices = data.sort_values([\"collection_date\"]).groupby([\"baboon_id\"]).tail(5).index\n",
    "# y = data[y_indices]\n",
    "# X = data[~y_indices]"
   ]
  },
  {
   "cell_type": "markdown",
   "id": "eb0608dc-a428-482a-b60e-c2e8d0e18132",
   "metadata": {},
   "source": [
    "## training"
   ]
  },
  {
   "attachments": {},
   "cell_type": "markdown",
   "id": "2a69355a-c73a-4fe1-9cfb-0d9ad6b89ee8",
   "metadata": {},
   "source": [
    "#### Predict by previous sample"
   ]
  },
  {
   "cell_type": "code",
   "execution_count": 8,
   "id": "9a7b0a11-d39b-4aad-a644-684259302b1a",
   "metadata": {},
   "outputs": [],
   "source": [
    "# \"\"\" VERY NAIVE MODEL \"\"\"\n",
    "# #-----------------------\n",
    "# # no need to train, we use the previous sample as y_pred\n",
    "# X = X.drop(columns = [\"sample\", \"baboon_id\", \"collection_date\"])\n",
    "# y = y.drop(columns = [\"sample\", \"baboon_id\", \"collection_date\"])"
   ]
  },
  {
   "attachments": {},
   "cell_type": "markdown",
   "id": "1072b7e6-1fc7-466f-ae47-38487411c27b",
   "metadata": {},
   "source": [
    "#### ARIMA"
   ]
  },
  {
   "cell_type": "code",
   "execution_count": 9,
   "id": "74ce74ca-85ad-4df7-81f0-d63a0190d1d0",
   "metadata": {},
   "outputs": [
    {
     "ename": "LinAlgError",
     "evalue": "Matrix is not positive definite",
     "output_type": "error",
     "traceback": [
      "\u001b[1;31m---------------------------------------------------------------------------\u001b[0m",
      "\u001b[1;31mLinAlgError\u001b[0m                               Traceback (most recent call last)",
      "Input \u001b[1;32mIn [9]\u001b[0m, in \u001b[0;36m<cell line: 3>\u001b[1;34m()\u001b[0m\n\u001b[0;32m      6\u001b[0m baboon_data \u001b[38;5;241m=\u001b[39m TimeSeries\u001b[38;5;241m.\u001b[39mfrom_dataframe(baboon_data, time_col\u001b[38;5;241m=\u001b[39m\u001b[38;5;124m\"\u001b[39m\u001b[38;5;124mdummy_date\u001b[39m\u001b[38;5;124m\"\u001b[39m)\n\u001b[0;32m      7\u001b[0m model \u001b[38;5;241m=\u001b[39m VARIMA() \n\u001b[1;32m----> 8\u001b[0m \u001b[43mmodel\u001b[49m\u001b[38;5;241;43m.\u001b[39;49m\u001b[43mfit\u001b[49m\u001b[43m(\u001b[49m\u001b[43mbaboon_data\u001b[49m\u001b[43m)\u001b[49m\n\u001b[0;32m      9\u001b[0m pred \u001b[38;5;241m=\u001b[39m model\u001b[38;5;241m.\u001b[39mpredict(\u001b[38;5;241m5\u001b[39m)\n\u001b[0;32m     10\u001b[0m pred \u001b[38;5;241m=\u001b[39m pd\u001b[38;5;241m.\u001b[39mDataFrame(pred)\n",
      "File \u001b[1;32m~\\PycharmProjects\\pythonProject\\venv\\lib\\site-packages\\darts\\models\\forecasting\\varima.py:130\u001b[0m, in \u001b[0;36mVARIMA.fit\u001b[1;34m(self, series, future_covariates)\u001b[0m\n\u001b[0;32m    124\u001b[0m \u001b[38;5;28mself\u001b[39m\u001b[38;5;241m.\u001b[39m_last_values \u001b[38;5;241m=\u001b[39m (\n\u001b[0;32m    125\u001b[0m     series\u001b[38;5;241m.\u001b[39mlast_values()\n\u001b[0;32m    126\u001b[0m )  \u001b[38;5;66;03m# needed for back-transformation when d=1\u001b[39;00m\n\u001b[0;32m    128\u001b[0m series \u001b[38;5;241m=\u001b[39m \u001b[38;5;28mself\u001b[39m\u001b[38;5;241m.\u001b[39m_differentiate_series(series)\n\u001b[1;32m--> 130\u001b[0m \u001b[38;5;28;43msuper\u001b[39;49m\u001b[43m(\u001b[49m\u001b[43m)\u001b[49m\u001b[38;5;241;43m.\u001b[39;49m\u001b[43mfit\u001b[49m\u001b[43m(\u001b[49m\u001b[43mseries\u001b[49m\u001b[43m,\u001b[49m\u001b[43m \u001b[49m\u001b[43mfuture_covariates\u001b[49m\u001b[43m)\u001b[49m\n\u001b[0;32m    132\u001b[0m \u001b[38;5;28;01mreturn\u001b[39;00m \u001b[38;5;28mself\u001b[39m\n",
      "File \u001b[1;32m~\\PycharmProjects\\pythonProject\\venv\\lib\\site-packages\\darts\\models\\forecasting\\forecasting_model.py:2949\u001b[0m, in \u001b[0;36mFutureCovariatesLocalForecastingModel.fit\u001b[1;34m(self, series, future_covariates)\u001b[0m\n\u001b[0;32m   2941\u001b[0m     _, future_covariates \u001b[38;5;241m=\u001b[39m \u001b[38;5;28mself\u001b[39m\u001b[38;5;241m.\u001b[39mgenerate_fit_encodings(\n\u001b[0;32m   2942\u001b[0m         series\u001b[38;5;241m=\u001b[39mseries,\n\u001b[0;32m   2943\u001b[0m         past_covariates\u001b[38;5;241m=\u001b[39m\u001b[38;5;28;01mNone\u001b[39;00m,\n\u001b[0;32m   2944\u001b[0m         future_covariates\u001b[38;5;241m=\u001b[39mfuture_covariates,\n\u001b[0;32m   2945\u001b[0m     )\n\u001b[0;32m   2947\u001b[0m \u001b[38;5;28msuper\u001b[39m()\u001b[38;5;241m.\u001b[39mfit(series)\n\u001b[1;32m-> 2949\u001b[0m \u001b[38;5;28;01mreturn\u001b[39;00m \u001b[38;5;28;43mself\u001b[39;49m\u001b[38;5;241;43m.\u001b[39;49m\u001b[43m_fit\u001b[49m\u001b[43m(\u001b[49m\u001b[43mseries\u001b[49m\u001b[43m,\u001b[49m\u001b[43m \u001b[49m\u001b[43mfuture_covariates\u001b[49m\u001b[38;5;241;43m=\u001b[39;49m\u001b[43mfuture_covariates\u001b[49m\u001b[43m)\u001b[49m\n",
      "File \u001b[1;32m~\\PycharmProjects\\pythonProject\\venv\\lib\\site-packages\\darts\\models\\forecasting\\varima.py:151\u001b[0m, in \u001b[0;36mVARIMA._fit\u001b[1;34m(self, series, future_covariates)\u001b[0m\n\u001b[0;32m    142\u001b[0m \u001b[38;5;28mself\u001b[39m\u001b[38;5;241m.\u001b[39mtraining_historic_future_covariates \u001b[38;5;241m=\u001b[39m future_covariates\n\u001b[0;32m    144\u001b[0m m \u001b[38;5;241m=\u001b[39m staVARMA(\n\u001b[0;32m    145\u001b[0m     endog\u001b[38;5;241m=\u001b[39mseries\u001b[38;5;241m.\u001b[39mvalues(copy\u001b[38;5;241m=\u001b[39m\u001b[38;5;28;01mFalse\u001b[39;00m),\n\u001b[0;32m    146\u001b[0m     exog\u001b[38;5;241m=\u001b[39mfuture_covariates\u001b[38;5;241m.\u001b[39mvalues(copy\u001b[38;5;241m=\u001b[39m\u001b[38;5;28;01mFalse\u001b[39;00m) \u001b[38;5;28;01mif\u001b[39;00m future_covariates \u001b[38;5;28;01melse\u001b[39;00m \u001b[38;5;28;01mNone\u001b[39;00m,\n\u001b[0;32m    147\u001b[0m     order\u001b[38;5;241m=\u001b[39m(\u001b[38;5;28mself\u001b[39m\u001b[38;5;241m.\u001b[39mp, \u001b[38;5;28mself\u001b[39m\u001b[38;5;241m.\u001b[39mq),\n\u001b[0;32m    148\u001b[0m     trend\u001b[38;5;241m=\u001b[39m\u001b[38;5;28mself\u001b[39m\u001b[38;5;241m.\u001b[39mtrend,\n\u001b[0;32m    149\u001b[0m )\n\u001b[1;32m--> 151\u001b[0m \u001b[38;5;28mself\u001b[39m\u001b[38;5;241m.\u001b[39mmodel \u001b[38;5;241m=\u001b[39m \u001b[43mm\u001b[49m\u001b[38;5;241;43m.\u001b[39;49m\u001b[43mfit\u001b[49m\u001b[43m(\u001b[49m\u001b[43mdisp\u001b[49m\u001b[38;5;241;43m=\u001b[39;49m\u001b[38;5;241;43m0\u001b[39;49m\u001b[43m)\u001b[49m\n",
      "File \u001b[1;32m~\\PycharmProjects\\pythonProject\\venv\\lib\\site-packages\\statsmodels\\tsa\\statespace\\mlemodel.py:649\u001b[0m, in \u001b[0;36mMLEModel.fit\u001b[1;34m(self, start_params, transformed, includes_fixed, cov_type, cov_kwds, method, maxiter, full_output, disp, callback, return_params, optim_score, optim_complex_step, optim_hessian, flags, low_memory, **kwargs)\u001b[0m\n\u001b[0;32m    529\u001b[0m \u001b[38;5;124;03m\"\"\"\u001b[39;00m\n\u001b[0;32m    530\u001b[0m \u001b[38;5;124;03mFits the model by maximum likelihood via Kalman filter.\u001b[39;00m\n\u001b[0;32m    531\u001b[0m \n\u001b[1;32m   (...)\u001b[0m\n\u001b[0;32m    646\u001b[0m \u001b[38;5;124;03mstatsmodels.tsa.statespace.structural.UnobservedComponentsResults\u001b[39;00m\n\u001b[0;32m    647\u001b[0m \u001b[38;5;124;03m\"\"\"\u001b[39;00m\n\u001b[0;32m    648\u001b[0m \u001b[38;5;28;01mif\u001b[39;00m start_params \u001b[38;5;129;01mis\u001b[39;00m \u001b[38;5;28;01mNone\u001b[39;00m:\n\u001b[1;32m--> 649\u001b[0m     start_params \u001b[38;5;241m=\u001b[39m \u001b[38;5;28;43mself\u001b[39;49m\u001b[38;5;241;43m.\u001b[39;49m\u001b[43mstart_params\u001b[49m\n\u001b[0;32m    650\u001b[0m     transformed \u001b[38;5;241m=\u001b[39m \u001b[38;5;28;01mTrue\u001b[39;00m\n\u001b[0;32m    651\u001b[0m     includes_fixed \u001b[38;5;241m=\u001b[39m \u001b[38;5;28;01mTrue\u001b[39;00m\n",
      "File \u001b[1;32m~\\PycharmProjects\\pythonProject\\venv\\lib\\site-packages\\statsmodels\\tsa\\statespace\\varmax.py:434\u001b[0m, in \u001b[0;36mVARMAX.start_params\u001b[1;34m(self)\u001b[0m\n\u001b[0;32m    432\u001b[0m     params[\u001b[38;5;28mself\u001b[39m\u001b[38;5;241m.\u001b[39m_params_state_cov] \u001b[38;5;241m=\u001b[39m res_ar\u001b[38;5;241m.\u001b[39msigma_u\u001b[38;5;241m.\u001b[39mdiagonal()\n\u001b[0;32m    433\u001b[0m \u001b[38;5;28;01melif\u001b[39;00m \u001b[38;5;28mself\u001b[39m\u001b[38;5;241m.\u001b[39merror_cov_type \u001b[38;5;241m==\u001b[39m \u001b[38;5;124m'\u001b[39m\u001b[38;5;124munstructured\u001b[39m\u001b[38;5;124m'\u001b[39m:\n\u001b[1;32m--> 434\u001b[0m     cov_factor \u001b[38;5;241m=\u001b[39m \u001b[43mnp\u001b[49m\u001b[38;5;241;43m.\u001b[39;49m\u001b[43mlinalg\u001b[49m\u001b[38;5;241;43m.\u001b[39;49m\u001b[43mcholesky\u001b[49m\u001b[43m(\u001b[49m\u001b[43mres_ar\u001b[49m\u001b[38;5;241;43m.\u001b[39;49m\u001b[43msigma_u\u001b[49m\u001b[43m)\u001b[49m\n\u001b[0;32m    435\u001b[0m     params[\u001b[38;5;28mself\u001b[39m\u001b[38;5;241m.\u001b[39m_params_state_cov] \u001b[38;5;241m=\u001b[39m (\n\u001b[0;32m    436\u001b[0m         cov_factor[\u001b[38;5;28mself\u001b[39m\u001b[38;5;241m.\u001b[39m_idx_lower_state_cov]\u001b[38;5;241m.\u001b[39mravel())\n\u001b[0;32m    438\u001b[0m \u001b[38;5;66;03m# 5. Measurement error variance terms\u001b[39;00m\n",
      "File \u001b[1;32m<__array_function__ internals>:180\u001b[0m, in \u001b[0;36mcholesky\u001b[1;34m(*args, **kwargs)\u001b[0m\n",
      "File \u001b[1;32m~\\PycharmProjects\\pythonProject\\venv\\lib\\site-packages\\numpy\\linalg\\linalg.py:770\u001b[0m, in \u001b[0;36mcholesky\u001b[1;34m(a)\u001b[0m\n\u001b[0;32m    768\u001b[0m t, result_t \u001b[38;5;241m=\u001b[39m _commonType(a)\n\u001b[0;32m    769\u001b[0m signature \u001b[38;5;241m=\u001b[39m \u001b[38;5;124m'\u001b[39m\u001b[38;5;124mD->D\u001b[39m\u001b[38;5;124m'\u001b[39m \u001b[38;5;28;01mif\u001b[39;00m isComplexType(t) \u001b[38;5;28;01melse\u001b[39;00m \u001b[38;5;124m'\u001b[39m\u001b[38;5;124md->d\u001b[39m\u001b[38;5;124m'\u001b[39m\n\u001b[1;32m--> 770\u001b[0m r \u001b[38;5;241m=\u001b[39m \u001b[43mgufunc\u001b[49m\u001b[43m(\u001b[49m\u001b[43ma\u001b[49m\u001b[43m,\u001b[49m\u001b[43m \u001b[49m\u001b[43msignature\u001b[49m\u001b[38;5;241;43m=\u001b[39;49m\u001b[43msignature\u001b[49m\u001b[43m,\u001b[49m\u001b[43m \u001b[49m\u001b[43mextobj\u001b[49m\u001b[38;5;241;43m=\u001b[39;49m\u001b[43mextobj\u001b[49m\u001b[43m)\u001b[49m\n\u001b[0;32m    771\u001b[0m \u001b[38;5;28;01mreturn\u001b[39;00m wrap(r\u001b[38;5;241m.\u001b[39mastype(result_t, copy\u001b[38;5;241m=\u001b[39m\u001b[38;5;28;01mFalse\u001b[39;00m))\n",
      "File \u001b[1;32m~\\PycharmProjects\\pythonProject\\venv\\lib\\site-packages\\numpy\\linalg\\linalg.py:92\u001b[0m, in \u001b[0;36m_raise_linalgerror_nonposdef\u001b[1;34m(err, flag)\u001b[0m\n\u001b[0;32m     91\u001b[0m \u001b[38;5;28;01mdef\u001b[39;00m \u001b[38;5;21m_raise_linalgerror_nonposdef\u001b[39m(err, flag):\n\u001b[1;32m---> 92\u001b[0m     \u001b[38;5;28;01mraise\u001b[39;00m LinAlgError(\u001b[38;5;124m\"\u001b[39m\u001b[38;5;124mMatrix is not positive definite\u001b[39m\u001b[38;5;124m\"\u001b[39m)\n",
      "\u001b[1;31mLinAlgError\u001b[0m: Matrix is not positive definite"
     ]
    }
   ],
   "source": [
    "pred_df = pd.DataFrame()\n",
    "\n",
    "for baboon in data[\"baboon_id\"].unique():\n",
    "    baboon_data = data[data[\"baboon_id\"]==baboon].drop(columns = [\"sample\", \"baboon_id\", \"collection_date\"])\n",
    "    baboon_data[\"dummy_date\"] = pd.date_range(datetime(year=2001, month=1,day=1), periods=len(baboon_data)).tolist()\n",
    "    baboon_data = TimeSeries.from_dataframe(baboon_data, time_col=\"dummy_date\")\n",
    "    model = VARIMA() \n",
    "    model.fit(baboon_data)\n",
    "    pred = model.predict(5)\n",
    "    pred = pd.DataFrame(pred)\n",
    "    pred[\"baboon_id\"] = baboon\n",
    "    pred_df = pd.concat([pred_df, pred], ignore_index=True)\n",
    "    print(pred)\n",
    "        \n",
    "pred_df.to_csv(\"pred.csv\")"
   ]
  },
  {
   "cell_type": "markdown",
   "id": "e942d17f-b9a8-45c8-9609-52f4b5b5b47e",
   "metadata": {},
   "source": [
    "## Performance analysis"
   ]
  },
  {
   "cell_type": "code",
   "execution_count": null,
   "id": "f83796ba-8609-4d44-92f5-b9392a262928",
   "metadata": {},
   "outputs": [],
   "source": [
    "d_matrix = calc_distance_matrix(X,y)\n",
    "plot_distances(d_matrix)"
   ]
  }
 ],
 "metadata": {
  "kernelspec": {
   "display_name": "Python 3 (ipykernel)",
   "language": "python",
   "name": "python3"
  },
  "language_info": {
   "codemirror_mode": {
    "name": "ipython",
    "version": 3
   },
   "file_extension": ".py",
   "mimetype": "text/x-python",
   "name": "python",
   "nbconvert_exporter": "python",
   "pygments_lexer": "ipython3",
   "version": "3.9.7"
  }
 },
 "nbformat": 4,
 "nbformat_minor": 5
}
