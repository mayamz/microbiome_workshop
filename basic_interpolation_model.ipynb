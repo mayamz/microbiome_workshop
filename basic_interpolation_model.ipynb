{
 "cells": [
  {
   "cell_type": "code",
   "execution_count": 1,
   "id": "41cc48aa-9b7e-4153-ab00-8315e82810ad",
   "metadata": {},
   "outputs": [],
   "source": [
    "# reloads modules when running again\n",
    "%load_ext autoreload\n",
    "%autoreload 2"
   ]
  },
  {
   "cell_type": "code",
   "execution_count": 2,
   "id": "a182af46-1480-4f3a-9374-6645303b95e1",
   "metadata": {},
   "outputs": [],
   "source": [
    "import matplotlib.pyplot as plt\n",
    "import pandas as pd\n",
    "import numpy as np\n",
    "import seaborn as sns\n",
    "import scipy\n",
    "\n",
    "from model_functions import *\n",
    "\n",
    "from sklearn.neighbors import KNeighborsRegressor\n",
    "from sklearn.linear_model import LinearRegression\n",
    "from darts import TimeSeries\n",
    "from datetime import datetime\n",
    "from sklearn.metrics.pairwise import pairwise_distances\n",
    "\n",
    "# TODO: delete\n",
    "from darts.models.forecasting.varima import VARIMA\n",
    "from statsmodels.stats.outliers_influence import variance_inflation_factor\n",
    "from statsmodels.tsa.statespace.varmax import VARMAX\n",
    "from sklearn.preprocessing import StandardScaler\n",
    "\n",
    "\n",
    "import warnings\n",
    "warnings.filterwarnings('ignore')"
   ]
  },
  {
   "cell_type": "markdown",
   "id": "e7c18624-0482-4ffd-9aaf-772f589de65a",
   "metadata": {},
   "source": [
    "## Data loading"
   ]
  },
  {
   "cell_type": "code",
   "execution_count": 3,
   "id": "eaae1d16-8e34-4d64-a8db-dba660e1ec7e",
   "metadata": {},
   "outputs": [],
   "source": [
    "data, metadata = load_data()"
   ]
  },
  {
   "cell_type": "markdown",
   "id": "cb195fb2-8964-45ab-a18f-5b3ad87f5543",
   "metadata": {},
   "source": [
    "### Constants"
   ]
  },
  {
   "cell_type": "code",
   "execution_count": 4,
   "id": "2667fe68-0c8f-444a-9ce9-75c29a50634c",
   "metadata": {},
   "outputs": [],
   "source": [
    "test_size = 10"
   ]
  },
  {
   "cell_type": "markdown",
   "id": "03436d52-6cdf-469b-b865-e3497e6b113e",
   "metadata": {},
   "source": [
    "## Data preprocessing"
   ]
  },
  {
   "cell_type": "markdown",
   "id": "bc80af4c-1d40-452c-8a57-c5ff946b6bb6",
   "metadata": {},
   "source": [
    "### Split to train-test"
   ]
  },
  {
   "cell_type": "code",
   "execution_count": 5,
   "id": "db7e283e-b859-499f-b1c6-5ed2d152a99c",
   "metadata": {},
   "outputs": [],
   "source": [
    "# sort data by collection date\n",
    "data = data.sort_values(by=\"collection_date\")\n",
    "\n",
    "# split to train & test by test_size last samples\n",
    "test_df = data.groupby('baboon_id').tail(test_size)\n",
    "train_df = data.drop(test_df.index)\n",
    "test_df = test_df.reset_index(drop=True)\n",
    "train_df = train_df.reset_index(drop=True)\n",
    "\n",
    "# TODO: remove\n",
    "test_df = test_df[test_df[\"baboon_id\"].isin([\"Baboon_101\", \"Baboon_107\", \"Baboon_201\"])]\n",
    "train_df = train_df[train_df[\"baboon_id\"].isin([\"Baboon_101\", \"Baboon_107\", \"Baboon_201\"])]"
   ]
  },
  {
   "cell_type": "code",
   "execution_count": 6,
   "id": "057568f1-9924-4682-ae7c-ed3bce571a4f",
   "metadata": {},
   "outputs": [],
   "source": [
    "meta_features_union = meta_features + [\"month_sin\", \"month_cos\"]\n",
    "x_test, y_test = test_df[meta_features_union], test_df.drop(columns=meta_features_union)\n",
    "x_test[\"interpolated\"] = 0"
   ]
  },
  {
   "cell_type": "markdown",
   "id": "8de24c20-4366-4e62-9f02-67852c9d5549",
   "metadata": {},
   "source": [
    "### Interpolation"
   ]
  },
  {
   "cell_type": "code",
   "execution_count": 7,
   "id": "c3b5f7b8-9814-4c1b-ab70-ffacecfb099d",
   "metadata": {},
   "outputs": [],
   "source": [
    "# aggregate to one sample per week\n",
    "train_df = aggregate_samples(train_df.copy())"
   ]
  },
  {
   "cell_type": "code",
   "execution_count": 8,
   "id": "3d18a684-d645-4d96-921e-30550cb85cc1",
   "metadata": {
    "scrolled": true
   },
   "outputs": [
    {
     "name": "stdout",
     "output_type": "stream",
     "text": [
      "1\n",
      "2\n",
      "3\n"
     ]
    }
   ],
   "source": [
    "# TODO: delete i in knn_interpolation func\n",
    "interpolated_df = knn_interpolation(train_df)\n",
    "interpolated_df.to_csv(\"interpolated_df.csv\")"
   ]
  },
  {
   "cell_type": "code",
   "execution_count": 9,
   "id": "1ea71c86-23ee-4e6a-ad9e-4a0a9f9c09c1",
   "metadata": {},
   "outputs": [],
   "source": [
    "interpolated_df[\"collection_date\"] = pd.to_datetime(interpolated_df[\"collection_date\"])"
   ]
  },
  {
   "cell_type": "markdown",
   "id": "63b8f95f-94e7-484f-b17d-4e3944697697",
   "metadata": {},
   "source": [
    "### Format dataset"
   ]
  },
  {
   "cell_type": "code",
   "execution_count": null,
   "id": "fe1fb1e0-1006-49a8-bd1d-16b53c64e92b",
   "metadata": {},
   "outputs": [],
   "source": []
  },
  {
   "cell_type": "markdown",
   "id": "0e265cda-354b-42fc-b6ea-a9ede5701e9e",
   "metadata": {},
   "source": [
    "### Add random noise for non-singularity"
   ]
  },
  {
   "cell_type": "code",
   "execution_count": 10,
   "id": "91d6b1a6-59a0-4b9f-8529-7c06341d392d",
   "metadata": {},
   "outputs": [],
   "source": [
    "taxa_columns = [col for col in interpolated_df.columns if col not in [\"sample\", \"baboon_id\", \"collection_date\", \"interpolated\"]]\n",
    "# min_value = interpolated_df[taxa_columns][interpolated_df[taxa_columns] > 0].min().min()\n",
    "# noise = np.random.uniform(0.25 * min_value, min_value, size=interpolated_df[taxa_columns].shape)"
   ]
  },
  {
   "cell_type": "code",
   "execution_count": 11,
   "id": "cd3d4c76-42c2-44d5-a1aa-841e6d056448",
   "metadata": {},
   "outputs": [],
   "source": [
    "# noise_df = interpolated_df.copy()\n",
    "# noise_df[taxa_columns] = interpolated_df[taxa_columns] + noise\n",
    "# #noise_df[taxa_columns] = noise_df[taxa_columns] * 1000\n",
    "# noise_df[taxa_columns] = noise_df[taxa_columns].div(noise_df[taxa_columns].sum(axis=1), axis=0)"
   ]
  },
  {
   "cell_type": "markdown",
   "id": "eeb67218-1267-4d8b-9b3e-a5e19a790ae9",
   "metadata": {},
   "source": [
    "## Train"
   ]
  },
  {
   "cell_type": "code",
   "execution_count": 12,
   "id": "106744a1-c98b-4d2c-992c-feb0509b334f",
   "metadata": {},
   "outputs": [],
   "source": [
    "pred_df = predict(train_df, x_test)"
   ]
  },
  {
   "cell_type": "markdown",
   "id": "e942d17f-b9a8-45c8-9609-52f4b5b5b47e",
   "metadata": {},
   "source": [
    "## Performance analysis"
   ]
  },
  {
   "cell_type": "code",
   "execution_count": 13,
   "id": "51dd3ce2-81d7-4594-827e-9560ecff67f4",
   "metadata": {},
   "outputs": [
    {
     "name": "stdout",
     "output_type": "stream",
     "text": [
      "0.49276818405774553\n"
     ]
    }
   ],
   "source": [
    "d_matrix = pairwise_distances(train_df[y_test.columns], y_test, metric=\"braycurtis\")\n",
    "pd.DataFrame(d_matrix).to_csv(\"braycurtis_performance.csv\")\n",
    "print(d_matrix.mean())"
   ]
  }
 ],
 "metadata": {
  "kernelspec": {
   "display_name": "Python 3 (ipykernel)",
   "language": "python",
   "name": "python3"
  },
  "language_info": {
   "codemirror_mode": {
    "name": "ipython",
    "version": 3
   },
   "file_extension": ".py",
   "mimetype": "text/x-python",
   "name": "python",
   "nbconvert_exporter": "python",
   "pygments_lexer": "ipython3",
   "version": "3.9.7"
  }
 },
 "nbformat": 4,
 "nbformat_minor": 5
}
