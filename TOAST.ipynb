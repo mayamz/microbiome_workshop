{
 "cells": [
  {
   "cell_type": "code",
   "execution_count": 1,
   "id": "41cc48aa-9b7e-4153-ab00-8315e82810ad",
   "metadata": {},
   "outputs": [],
   "source": [
    "# reloads modules when running again\n",
    "%load_ext autoreload\n",
    "%autoreload 2"
   ]
  },
  {
   "cell_type": "code",
   "execution_count": 2,
   "id": "a182af46-1480-4f3a-9374-6645303b95e1",
   "metadata": {},
   "outputs": [],
   "source": [
    "import matplotlib.pyplot as plt\n",
    "import pandas as pd\n",
    "import numpy as np\n",
    "import seaborn as sns\n",
    "\n",
    "from model_functions import *\n",
    "\n",
    "from sklearn.neighbors import KNeighborsRegressor\n",
    "from sklearn.linear_model import LinearRegression\n",
    "from sklearn.metrics.pairwise import pairwise_distances\n",
    "\n",
    "import warnings\n",
    "warnings.filterwarnings('ignore')"
   ]
  },
  {
   "cell_type": "markdown",
   "id": "e7c18624-0482-4ffd-9aaf-772f589de65a",
   "metadata": {},
   "source": [
    "## Data loading"
   ]
  },
  {
   "cell_type": "code",
   "execution_count": 3,
   "id": "eaae1d16-8e34-4d64-a8db-dba660e1ec7e",
   "metadata": {},
   "outputs": [],
   "source": [
    "data, metadata = load_data()"
   ]
  },
  {
   "cell_type": "markdown",
   "id": "cb195fb2-8964-45ab-a18f-5b3ad87f5543",
   "metadata": {},
   "source": [
    "### Constants"
   ]
  },
  {
   "cell_type": "code",
   "execution_count": 4,
   "id": "2667fe68-0c8f-444a-9ce9-75c29a50634c",
   "metadata": {},
   "outputs": [],
   "source": [
    "test_size = 10"
   ]
  },
  {
   "cell_type": "markdown",
   "id": "03436d52-6cdf-469b-b865-e3497e6b113e",
   "metadata": {},
   "source": [
    "## Data preprocessing"
   ]
  },
  {
   "cell_type": "markdown",
   "id": "bc80af4c-1d40-452c-8a57-c5ff946b6bb6",
   "metadata": {},
   "source": [
    "### Split to train-test"
   ]
  },
  {
   "cell_type": "code",
   "execution_count": 5,
   "id": "db7e283e-b859-499f-b1c6-5ed2d152a99c",
   "metadata": {},
   "outputs": [],
   "source": [
    "# sort data by collection date\n",
    "data = data.sort_values(by=\"collection_date\")\n",
    "\n",
    "# split to train & test by test_size last samples\n",
    "test_df = data.groupby('baboon_id').tail(test_size)\n",
    "train_df = data.drop(test_df.index)\n",
    "test_df = test_df.reset_index(drop=True)\n",
    "train_df = train_df.reset_index(drop=True)\n",
    "\n",
    "# can be uncomment and used for extrapulation\n",
    "# train_df = data.groupby('baboon_id').head(2)\n",
    "# test_df = data.drop(train_df.index)\n",
    "# test_df = test_df.reset_index(drop=True)\n",
    "# train_df = train_df.reset_index(drop=True)"
   ]
  },
  {
   "cell_type": "code",
   "execution_count": 6,
   "id": "057568f1-9924-4682-ae7c-ed3bce571a4f",
   "metadata": {},
   "outputs": [],
   "source": [
    "meta_features_union = meta_features + [\"month_sin\", \"month_cos\"]\n",
    "x_test, y_test = test_df[meta_features_union], test_df.drop(columns=meta_features_union)\n",
    "x_test[\"interpolated\"] = 0"
   ]
  },
  {
   "cell_type": "markdown",
   "id": "8de24c20-4366-4e62-9f02-67852c9d5549",
   "metadata": {},
   "source": [
    "### Interpolation"
   ]
  },
  {
   "cell_type": "code",
   "execution_count": 7,
   "id": "c3b5f7b8-9814-4c1b-ab70-ffacecfb099d",
   "metadata": {},
   "outputs": [],
   "source": [
    "# aggregate to one sample per week\n",
    "train_df = aggregate_samples(train_df.copy())"
   ]
  },
  {
   "cell_type": "code",
   "execution_count": null,
   "id": "3d18a684-d645-4d96-921e-30550cb85cc1",
   "metadata": {},
   "outputs": [
    {
     "name": "stdout",
     "output_type": "stream",
     "text": [
      "finished interpolating baboon 1\n",
      "finished interpolating baboon 2\n",
      "finished interpolating baboon 3\n",
      "finished interpolating baboon 4\n",
      "finished interpolating baboon 5\n",
      "finished interpolating baboon 6\n",
      "finished interpolating baboon 7\n",
      "finished interpolating baboon 8\n",
      "finished interpolating baboon 9\n",
      "finished interpolating baboon 10\n"
     ]
    }
   ],
   "source": [
    "interpolated_df = knn_interpolation(train_df)\n",
    "interpolated_df.to_csv(\"interpolated_df.csv\")"
   ]
  },
  {
   "cell_type": "code",
   "execution_count": null,
   "id": "1d2f2901-08aa-409a-9834-39dcaabe68fb",
   "metadata": {},
   "outputs": [],
   "source": [
    "# can be uncomment for loading the data from a csv file instead of running the knn_interpolation function\n",
    "\n",
    "# interpolated_df = pd.read_csv(\"interpolated_df.csv\")"
   ]
  },
  {
   "cell_type": "code",
   "execution_count": null,
   "id": "1ea71c86-23ee-4e6a-ad9e-4a0a9f9c09c1",
   "metadata": {},
   "outputs": [],
   "source": [
    "interpolated_df[\"collection_date\"] = pd.to_datetime(interpolated_df[\"collection_date\"])\n",
    "taxa_columns = [col for col in interpolated_df.columns if col not in meta_features_union + [\"interpolated\"]]"
   ]
  },
  {
   "cell_type": "markdown",
   "id": "eeb67218-1267-4d8b-9b3e-a5e19a790ae9",
   "metadata": {},
   "source": [
    "## Train"
   ]
  },
  {
   "cell_type": "code",
   "execution_count": null,
   "id": "5eb2188e-0939-442a-9671-73006374c7a7",
   "metadata": {},
   "outputs": [],
   "source": [
    "# can be uncomment and used to run only the trend model\n",
    "\n",
    "# pred_df = trend_pred(train_df, x_test)\n",
    "# pred_df.to_csv(\"trend_df.csv\")"
   ]
  },
  {
   "cell_type": "code",
   "execution_count": null,
   "id": "3bc35537-7ddc-497e-b45d-a90460d03438",
   "metadata": {},
   "outputs": [],
   "source": [
    "# can be uncomment and used to run only the seasonal model\n",
    "\n",
    "# pred_df = seasonal_pred(train_df, x_test)\n",
    "# pred_df.to_csv(\"seasonal_df.csv\")"
   ]
  },
  {
   "cell_type": "code",
   "execution_count": null,
   "id": "106744a1-c98b-4d2c-992c-feb0509b334f",
   "metadata": {},
   "outputs": [],
   "source": [
    "pred_df = predict(train_df, x_test)\n",
    "pred_df.to_csv(\"pred_df.csv\")"
   ]
  },
  {
   "cell_type": "markdown",
   "id": "e942d17f-b9a8-45c8-9609-52f4b5b5b47e",
   "metadata": {},
   "source": [
    "## Performance analysis"
   ]
  },
  {
   "cell_type": "code",
   "execution_count": null,
   "id": "3b629c09-1f77-4ff8-b6d8-1009ad6a4ba9",
   "metadata": {},
   "outputs": [],
   "source": [
    "# can be uncomment for loading the data from a csv file instead of running the predict function\n",
    "\n",
    "# pred_df = pd.read_csv(\"pred_df.csv\")"
   ]
  },
  {
   "cell_type": "code",
   "execution_count": null,
   "id": "51dd3ce2-81d7-4594-827e-9560ecff67f4",
   "metadata": {},
   "outputs": [],
   "source": [
    "# calculating Bray-Curtis score\n",
    "d_matrix = pairwise_distances(pred_df[y_test.columns], y_test, metric=\"braycurtis\").diagonal()\n",
    "pd.DataFrame(d_matrix).to_csv(\"braycurtis_performance_2_time_points.csv\")\n",
    "braycurtis_score = d_matrix.mean()"
   ]
  },
  {
   "cell_type": "markdown",
   "id": "d9ee3a44-cbf6-4ff4-b8da-fafcccf83d70",
   "metadata": {},
   "source": [
    "### Performance Analysis"
   ]
  },
  {
   "cell_type": "code",
   "execution_count": null,
   "id": "6eaac81b-4779-4f66-acf6-d5665c40f5e7",
   "metadata": {},
   "outputs": [],
   "source": [
    "print(f\"Bray-Curtis score: {round(braycurtis_score, 5)}\")"
   ]
  },
  {
   "cell_type": "code",
   "execution_count": null,
   "id": "e3e03071-fbf6-485e-addb-f6828a83d345",
   "metadata": {},
   "outputs": [],
   "source": [
    "analysis_df = x_test.copy()\n",
    "analysis_df[\"braycurtis_score\"] = d_matrix\n",
    "analysis_df.drop(columns=[\"interpolated\", \"month_sin\", \"month_cos\"], inplace=True)"
   ]
  },
  {
   "cell_type": "code",
   "execution_count": null,
   "id": "50d4801c-81eb-453a-8414-7872ee8a197a",
   "metadata": {},
   "outputs": [],
   "source": [
    "# Bray-Curtis Distribution\n",
    "plt.grid(False)\n",
    "sns.histplot(analysis_df[\"braycurtis_score\"], color=\"#46c1db\", bins=25, kde=True)\n",
    "plt.title(\"Bray-Curtis Distribution\")\n",
    "plt.xlabel(\"Bray-Curtis Score\")\n",
    "plt.xlim(0)\n",
    "plt.show()"
   ]
  },
  {
   "cell_type": "code",
   "execution_count": null,
   "id": "37466689-de71-4580-abce-828e6091e679",
   "metadata": {},
   "outputs": [],
   "source": [
    "# Bray-Curtis Distribution\n",
    "plt.grid(False)\n",
    "sns.histplot(analysis_df.groupby(\"baboon_id\")[[\"braycurtis_score\"]].agg(\"mean\")[\"braycurtis_score\"], color=\"#46c1db\", bins=25, kde=True)\n",
    "plt.title(\"Average Bray-Curtis per Baboon\")\n",
    "plt.xlabel(\"Average per Baboon\")\n",
    "plt.show()"
   ]
  },
  {
   "cell_type": "code",
   "execution_count": null,
   "id": "b86cd52e-5868-4783-9ebc-ce42aca79e95",
   "metadata": {},
   "outputs": [],
   "source": [
    "# Bray-Curtis by sex\n",
    "plt.grid(False)\n",
    "sns.violinplot(data=analysis_df, hue=\"sex\", y=\"braycurtis_score\", palette=\"muted\")\n",
    "plt.title(\"Bray-Curtis per Sex\")\n",
    "plt.xlabel(\"Sex\")\n",
    "plt.ylabel(\"Bray-Curtis Score\")\n",
    "plt.show()"
   ]
  },
  {
   "cell_type": "code",
   "execution_count": null,
   "id": "b55e0c9e-c58d-46c9-8293-ea164e3055c5",
   "metadata": {},
   "outputs": [],
   "source": [
    "# Bray-Curtis per Baboon\n",
    "plt.figure(figsize=(30, 6))\n",
    "plt.grid(True)\n",
    "analysis_df[\"baboon_mean\"] = analysis_df.groupby(\"baboon_id\")[[\"braycurtis_score\"]].transform(\"median\")[\"braycurtis_score\"]\n",
    "sns.violinplot(data=analysis_df.sort_values(\"baboon_mean\"), hue=\"baboon_id\", y=\"braycurtis_score\", palette=\"muted\", legend=False)\n",
    "plt.title(\"Bray-Curtis per Baboon\")\n",
    "plt.xlabel(\"Baboon\")\n",
    "plt.xlim((-0.41,0.41))\n",
    "plt.ylabel(\"Bray-Curtis Score\")\n",
    "plt.show()"
   ]
  },
  {
   "cell_type": "code",
   "execution_count": null,
   "id": "7f3edbb2-1f24-4491-9808-82888e978373",
   "metadata": {},
   "outputs": [],
   "source": [
    "# creating a dictionary of babbon_id:last known sample\n",
    "d = dict()\n",
    "for baboon_id in train_df[\"baboon_id\"].unique():\n",
    "    d[baboon_id] = [sorted(train_df[train_df[\"baboon_id\"] == baboon_id][\"collection_date\"].to_list())[-1]]\n",
    "df1 = pd.DataFrame(d).T\n",
    "merged_df = analysis_df.merge(df1, left_on=\"baboon_id\", right_index=True)"
   ]
  },
  {
   "cell_type": "code",
   "execution_count": null,
   "id": "9f7d9382-14fa-4974-8bd8-106dd0bb7a88",
   "metadata": {},
   "outputs": [],
   "source": [
    "# computing the distance between each sample to the last one in the train dataset\n",
    "merged_df.rename(columns={0:\"last_timepoint\"}, inplace=True)\n",
    "merged_df[\"dist_in_days\"] = 0\n",
    "merged_df[\"dist_in_days\"] = merged_df.apply(lambda row: np.abs(row[\"collection_date\"] - row[\"last_timepoint\"]).total_seconds() / (60 * 60 * 24), axis=1)"
   ]
  },
  {
   "cell_type": "code",
   "execution_count": null,
   "id": "ec220b0b-2e9b-4532-bfa7-c2fd0ccf6147",
   "metadata": {},
   "outputs": [],
   "source": [
    "# plot the Bray-Curtis score for the distances in days\n",
    "mean_by_dist = merged_df.groupby(\"dist_in_days\")[[\"braycurtis_score\"]].mean()\n",
    "plt.figure(figsize=(30, 6))\n",
    "sns.regplot(x=mean_by_dist.index, y=mean_by_dist[\"braycurtis_score\"], color=\"#46c1db\")\n",
    "plt.xlabel(\"Distance From the Last Known Sample (Days)\")\n",
    "plt.title(\"Bray-Curtis Score by Distance in Days From the Last Known Sample\")\n",
    "plt.show()"
   ]
  }
 ],
 "metadata": {
  "kernelspec": {
   "display_name": "Python 3 (ipykernel)",
   "language": "python",
   "name": "python3"
  },
  "language_info": {
   "codemirror_mode": {
    "name": "ipython",
    "version": 3
   },
   "file_extension": ".py",
   "mimetype": "text/x-python",
   "name": "python",
   "nbconvert_exporter": "python",
   "pygments_lexer": "ipython3",
   "version": "3.9.7"
  }
 },
 "nbformat": 4,
 "nbformat_minor": 5
}
