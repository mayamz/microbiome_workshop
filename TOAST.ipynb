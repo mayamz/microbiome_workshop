{
 "cells": [
  {
   "cell_type": "code",
   "execution_count": 1,
   "id": "41cc48aa-9b7e-4153-ab00-8315e82810ad",
   "metadata": {},
   "outputs": [],
   "source": [
    "# reloads modules when running again\n",
    "%load_ext autoreload\n",
    "%autoreload 2"
   ]
  },
  {
   "cell_type": "code",
   "execution_count": 2,
   "id": "a182af46-1480-4f3a-9374-6645303b95e1",
   "metadata": {},
   "outputs": [],
   "source": [
    "import matplotlib.pyplot as plt\n",
    "import pandas as pd\n",
    "import numpy as np\n",
    "import seaborn as sns\n",
    "\n",
    "from model_functions import *\n",
    "\n",
    "from sklearn.neighbors import KNeighborsRegressor\n",
    "from sklearn.linear_model import LinearRegression\n",
    "from sklearn.metrics.pairwise import pairwise_distances\n",
    "\n",
    "import warnings\n",
    "warnings.filterwarnings('ignore')"
   ]
  },
  {
   "cell_type": "markdown",
   "id": "e7c18624-0482-4ffd-9aaf-772f589de65a",
   "metadata": {},
   "source": [
    "## Data loading"
   ]
  },
  {
   "cell_type": "code",
   "execution_count": 3,
   "id": "eaae1d16-8e34-4d64-a8db-dba660e1ec7e",
   "metadata": {},
   "outputs": [],
   "source": [
    "data, metadata = load_data()"
   ]
  },
  {
   "cell_type": "code",
   "execution_count": 4,
   "id": "62462f3f-bd9e-4c56-8594-b28aff695008",
   "metadata": {},
   "outputs": [],
   "source": [
    "new_data, new_metadata = load_data(data_name=\"new_data\", metadata_name=\"new_metadata\")"
   ]
  },
  {
   "cell_type": "code",
   "execution_count": 5,
   "id": "a10f0e0d-54cd-4085-b6cd-6413ea9dd09d",
   "metadata": {},
   "outputs": [],
   "source": [
    "# merge data\n",
    "data = pd.concat([data, new_data], ignore_index=True)"
   ]
  },
  {
   "cell_type": "code",
   "execution_count": 6,
   "id": "546ccfe9-a5f3-412c-a693-c7358bab5b13",
   "metadata": {},
   "outputs": [
    {
     "data": {
      "text/html": [
       "<div>\n",
       "<style scoped>\n",
       "    .dataframe tbody tr th:only-of-type {\n",
       "        vertical-align: middle;\n",
       "    }\n",
       "\n",
       "    .dataframe tbody tr th {\n",
       "        vertical-align: top;\n",
       "    }\n",
       "\n",
       "    .dataframe thead th {\n",
       "        text-align: right;\n",
       "    }\n",
       "</style>\n",
       "<table border=\"1\" class=\"dataframe\">\n",
       "  <thead>\n",
       "    <tr style=\"text-align: right;\">\n",
       "      <th></th>\n",
       "      <th>sample</th>\n",
       "      <th>baboon_id</th>\n",
       "      <th>collection_date</th>\n",
       "      <th>sex</th>\n",
       "      <th>age</th>\n",
       "      <th>social_group</th>\n",
       "      <th>group_size</th>\n",
       "      <th>rain_month_mm</th>\n",
       "      <th>season</th>\n",
       "      <th>hydro_year</th>\n",
       "      <th>...</th>\n",
       "      <th>diet_PC6</th>\n",
       "      <th>diet_PC7</th>\n",
       "      <th>diet_PC8</th>\n",
       "      <th>diet_PC9</th>\n",
       "      <th>diet_PC10</th>\n",
       "      <th>diet_PC11</th>\n",
       "      <th>diet_PC12</th>\n",
       "      <th>diet_PC13</th>\n",
       "      <th>month_sin</th>\n",
       "      <th>month_cos</th>\n",
       "    </tr>\n",
       "  </thead>\n",
       "  <tbody>\n",
       "    <tr>\n",
       "      <th>0</th>\n",
       "      <td>sample_11412-TTCTGGTCTTGT-397</td>\n",
       "      <td>Baboon_103</td>\n",
       "      <td>2000-07-10</td>\n",
       "      <td>F</td>\n",
       "      <td>5.426420</td>\n",
       "      <td>g_1.21</td>\n",
       "      <td>21</td>\n",
       "      <td>0.6</td>\n",
       "      <td>dry</td>\n",
       "      <td>2000</td>\n",
       "      <td>...</td>\n",
       "      <td>-11.751633</td>\n",
       "      <td>-1.567519</td>\n",
       "      <td>-1.735464</td>\n",
       "      <td>-1.885510</td>\n",
       "      <td>0.427538</td>\n",
       "      <td>1.209694</td>\n",
       "      <td>-6.315116</td>\n",
       "      <td>1.225756</td>\n",
       "      <td>-0.500000</td>\n",
       "      <td>-8.660254e-01</td>\n",
       "    </tr>\n",
       "    <tr>\n",
       "      <th>1</th>\n",
       "      <td>sample_11412-ATCTTGGAGTCG-397</td>\n",
       "      <td>Baboon_103</td>\n",
       "      <td>2000-09-15</td>\n",
       "      <td>F</td>\n",
       "      <td>5.609856</td>\n",
       "      <td>g_1.21</td>\n",
       "      <td>21</td>\n",
       "      <td>0.0</td>\n",
       "      <td>dry</td>\n",
       "      <td>2000</td>\n",
       "      <td>...</td>\n",
       "      <td>-4.245491</td>\n",
       "      <td>-1.719074</td>\n",
       "      <td>5.872374</td>\n",
       "      <td>5.606421</td>\n",
       "      <td>0.519868</td>\n",
       "      <td>-1.399635</td>\n",
       "      <td>0.901593</td>\n",
       "      <td>0.363685</td>\n",
       "      <td>-1.000000</td>\n",
       "      <td>-1.836970e-16</td>\n",
       "    </tr>\n",
       "    <tr>\n",
       "      <th>2</th>\n",
       "      <td>sample_12053-GTTGATACGATG-409</td>\n",
       "      <td>Baboon_103</td>\n",
       "      <td>2001-02-07</td>\n",
       "      <td>F</td>\n",
       "      <td>6.006845</td>\n",
       "      <td>g_1.21</td>\n",
       "      <td>20</td>\n",
       "      <td>157.2</td>\n",
       "      <td>wet</td>\n",
       "      <td>2001</td>\n",
       "      <td>...</td>\n",
       "      <td>0.216568</td>\n",
       "      <td>-5.456956</td>\n",
       "      <td>-9.991175</td>\n",
       "      <td>4.687571</td>\n",
       "      <td>2.444637</td>\n",
       "      <td>-1.311342</td>\n",
       "      <td>-0.004980</td>\n",
       "      <td>0.053056</td>\n",
       "      <td>0.866025</td>\n",
       "      <td>5.000000e-01</td>\n",
       "    </tr>\n",
       "    <tr>\n",
       "      <th>3</th>\n",
       "      <td>sample_12053-AATGCGCGTATA-409</td>\n",
       "      <td>Baboon_103</td>\n",
       "      <td>2001-03-03</td>\n",
       "      <td>F</td>\n",
       "      <td>6.072553</td>\n",
       "      <td>g_1.21</td>\n",
       "      <td>19</td>\n",
       "      <td>3.2</td>\n",
       "      <td>wet</td>\n",
       "      <td>2001</td>\n",
       "      <td>...</td>\n",
       "      <td>-2.396195</td>\n",
       "      <td>-4.890560</td>\n",
       "      <td>-8.652358</td>\n",
       "      <td>7.925085</td>\n",
       "      <td>1.443745</td>\n",
       "      <td>-0.555187</td>\n",
       "      <td>0.117349</td>\n",
       "      <td>0.051628</td>\n",
       "      <td>1.000000</td>\n",
       "      <td>6.123234e-17</td>\n",
       "    </tr>\n",
       "    <tr>\n",
       "      <th>4</th>\n",
       "      <td>sample_11408-CAGTGATACTGC-395</td>\n",
       "      <td>Baboon_103</td>\n",
       "      <td>2001-03-27</td>\n",
       "      <td>F</td>\n",
       "      <td>6.138261</td>\n",
       "      <td>g_1.21</td>\n",
       "      <td>19</td>\n",
       "      <td>36.9</td>\n",
       "      <td>wet</td>\n",
       "      <td>2001</td>\n",
       "      <td>...</td>\n",
       "      <td>0.514945</td>\n",
       "      <td>0.642578</td>\n",
       "      <td>0.343181</td>\n",
       "      <td>1.095459</td>\n",
       "      <td>0.039154</td>\n",
       "      <td>0.402993</td>\n",
       "      <td>0.397106</td>\n",
       "      <td>-0.121340</td>\n",
       "      <td>1.000000</td>\n",
       "      <td>6.123234e-17</td>\n",
       "    </tr>\n",
       "    <tr>\n",
       "      <th>...</th>\n",
       "      <td>...</td>\n",
       "      <td>...</td>\n",
       "      <td>...</td>\n",
       "      <td>...</td>\n",
       "      <td>...</td>\n",
       "      <td>...</td>\n",
       "      <td>...</td>\n",
       "      <td>...</td>\n",
       "      <td>...</td>\n",
       "      <td>...</td>\n",
       "      <td>...</td>\n",
       "      <td>...</td>\n",
       "      <td>...</td>\n",
       "      <td>...</td>\n",
       "      <td>...</td>\n",
       "      <td>...</td>\n",
       "      <td>...</td>\n",
       "      <td>...</td>\n",
       "      <td>...</td>\n",
       "      <td>...</td>\n",
       "      <td>...</td>\n",
       "    </tr>\n",
       "    <tr>\n",
       "      <th>1890</th>\n",
       "      <td>sample_11407-TCCGCTGCTGAC-394</td>\n",
       "      <td>Baboon_599</td>\n",
       "      <td>2012-09-22</td>\n",
       "      <td>M</td>\n",
       "      <td>19.750856</td>\n",
       "      <td>g_1.11</td>\n",
       "      <td>74</td>\n",
       "      <td>0.0</td>\n",
       "      <td>dry</td>\n",
       "      <td>2012</td>\n",
       "      <td>...</td>\n",
       "      <td>-3.677994</td>\n",
       "      <td>-1.167808</td>\n",
       "      <td>0.141555</td>\n",
       "      <td>-0.892291</td>\n",
       "      <td>-0.630581</td>\n",
       "      <td>-0.396363</td>\n",
       "      <td>0.475944</td>\n",
       "      <td>0.163199</td>\n",
       "      <td>-1.000000</td>\n",
       "      <td>-1.836970e-16</td>\n",
       "    </tr>\n",
       "    <tr>\n",
       "      <th>1891</th>\n",
       "      <td>sample_11406-GTAATAATGCCG-394</td>\n",
       "      <td>Baboon_599</td>\n",
       "      <td>2012-09-14</td>\n",
       "      <td>M</td>\n",
       "      <td>19.728953</td>\n",
       "      <td>g_1.11</td>\n",
       "      <td>74</td>\n",
       "      <td>0.6</td>\n",
       "      <td>dry</td>\n",
       "      <td>2012</td>\n",
       "      <td>...</td>\n",
       "      <td>-1.311975</td>\n",
       "      <td>0.817112</td>\n",
       "      <td>1.239203</td>\n",
       "      <td>0.111570</td>\n",
       "      <td>-0.723128</td>\n",
       "      <td>-0.540500</td>\n",
       "      <td>0.548988</td>\n",
       "      <td>0.182761</td>\n",
       "      <td>-1.000000</td>\n",
       "      <td>-1.836970e-16</td>\n",
       "    </tr>\n",
       "    <tr>\n",
       "      <th>1892</th>\n",
       "      <td>sample_11412-AGGCCTTGGGCG-397</td>\n",
       "      <td>Baboon_599</td>\n",
       "      <td>2012-09-06</td>\n",
       "      <td>M</td>\n",
       "      <td>19.707050</td>\n",
       "      <td>g_1.11</td>\n",
       "      <td>74</td>\n",
       "      <td>0.6</td>\n",
       "      <td>dry</td>\n",
       "      <td>2012</td>\n",
       "      <td>...</td>\n",
       "      <td>-3.251906</td>\n",
       "      <td>0.020369</td>\n",
       "      <td>2.242375</td>\n",
       "      <td>0.915096</td>\n",
       "      <td>-1.009625</td>\n",
       "      <td>-0.199283</td>\n",
       "      <td>0.653121</td>\n",
       "      <td>0.242996</td>\n",
       "      <td>-1.000000</td>\n",
       "      <td>-1.836970e-16</td>\n",
       "    </tr>\n",
       "    <tr>\n",
       "      <th>1893</th>\n",
       "      <td>sample_11412-GGTGGCATGGAA-397</td>\n",
       "      <td>Baboon_599</td>\n",
       "      <td>2012-05-08</td>\n",
       "      <td>M</td>\n",
       "      <td>19.375770</td>\n",
       "      <td>g_1.11</td>\n",
       "      <td>73</td>\n",
       "      <td>106.6</td>\n",
       "      <td>wet</td>\n",
       "      <td>2012</td>\n",
       "      <td>...</td>\n",
       "      <td>-6.442805</td>\n",
       "      <td>-0.758193</td>\n",
       "      <td>-2.569987</td>\n",
       "      <td>-2.594860</td>\n",
       "      <td>0.262834</td>\n",
       "      <td>-5.560058</td>\n",
       "      <td>-0.902044</td>\n",
       "      <td>0.543864</td>\n",
       "      <td>0.500000</td>\n",
       "      <td>-8.660254e-01</td>\n",
       "    </tr>\n",
       "    <tr>\n",
       "      <th>1894</th>\n",
       "      <td>sample_12053-ATACTGAGTGAA-409</td>\n",
       "      <td>Baboon_599</td>\n",
       "      <td>2012-05-03</td>\n",
       "      <td>M</td>\n",
       "      <td>19.362081</td>\n",
       "      <td>g_1.11</td>\n",
       "      <td>73</td>\n",
       "      <td>120.2</td>\n",
       "      <td>wet</td>\n",
       "      <td>2012</td>\n",
       "      <td>...</td>\n",
       "      <td>-8.676887</td>\n",
       "      <td>-1.807233</td>\n",
       "      <td>-0.954259</td>\n",
       "      <td>-1.940128</td>\n",
       "      <td>-0.078869</td>\n",
       "      <td>-4.358706</td>\n",
       "      <td>-0.742386</td>\n",
       "      <td>0.661089</td>\n",
       "      <td>0.500000</td>\n",
       "      <td>-8.660254e-01</td>\n",
       "    </tr>\n",
       "  </tbody>\n",
       "</table>\n",
       "<p>1895 rows × 26 columns</p>\n",
       "</div>"
      ],
      "text/plain": [
       "                             sample   baboon_id collection_date sex  \\\n",
       "0     sample_11412-TTCTGGTCTTGT-397  Baboon_103      2000-07-10   F   \n",
       "1     sample_11412-ATCTTGGAGTCG-397  Baboon_103      2000-09-15   F   \n",
       "2     sample_12053-GTTGATACGATG-409  Baboon_103      2001-02-07   F   \n",
       "3     sample_12053-AATGCGCGTATA-409  Baboon_103      2001-03-03   F   \n",
       "4     sample_11408-CAGTGATACTGC-395  Baboon_103      2001-03-27   F   \n",
       "...                             ...         ...             ...  ..   \n",
       "1890  sample_11407-TCCGCTGCTGAC-394  Baboon_599      2012-09-22   M   \n",
       "1891  sample_11406-GTAATAATGCCG-394  Baboon_599      2012-09-14   M   \n",
       "1892  sample_11412-AGGCCTTGGGCG-397  Baboon_599      2012-09-06   M   \n",
       "1893  sample_11412-GGTGGCATGGAA-397  Baboon_599      2012-05-08   M   \n",
       "1894  sample_12053-ATACTGAGTGAA-409  Baboon_599      2012-05-03   M   \n",
       "\n",
       "            age social_group  group_size  rain_month_mm season  hydro_year  \\\n",
       "0      5.426420       g_1.21          21            0.6    dry        2000   \n",
       "1      5.609856       g_1.21          21            0.0    dry        2000   \n",
       "2      6.006845       g_1.21          20          157.2    wet        2001   \n",
       "3      6.072553       g_1.21          19            3.2    wet        2001   \n",
       "4      6.138261       g_1.21          19           36.9    wet        2001   \n",
       "...         ...          ...         ...            ...    ...         ...   \n",
       "1890  19.750856       g_1.11          74            0.0    dry        2012   \n",
       "1891  19.728953       g_1.11          74            0.6    dry        2012   \n",
       "1892  19.707050       g_1.11          74            0.6    dry        2012   \n",
       "1893  19.375770       g_1.11          73          106.6    wet        2012   \n",
       "1894  19.362081       g_1.11          73          120.2    wet        2012   \n",
       "\n",
       "      ...   diet_PC6  diet_PC7  diet_PC8  diet_PC9  diet_PC10  diet_PC11  \\\n",
       "0     ... -11.751633 -1.567519 -1.735464 -1.885510   0.427538   1.209694   \n",
       "1     ...  -4.245491 -1.719074  5.872374  5.606421   0.519868  -1.399635   \n",
       "2     ...   0.216568 -5.456956 -9.991175  4.687571   2.444637  -1.311342   \n",
       "3     ...  -2.396195 -4.890560 -8.652358  7.925085   1.443745  -0.555187   \n",
       "4     ...   0.514945  0.642578  0.343181  1.095459   0.039154   0.402993   \n",
       "...   ...        ...       ...       ...       ...        ...        ...   \n",
       "1890  ...  -3.677994 -1.167808  0.141555 -0.892291  -0.630581  -0.396363   \n",
       "1891  ...  -1.311975  0.817112  1.239203  0.111570  -0.723128  -0.540500   \n",
       "1892  ...  -3.251906  0.020369  2.242375  0.915096  -1.009625  -0.199283   \n",
       "1893  ...  -6.442805 -0.758193 -2.569987 -2.594860   0.262834  -5.560058   \n",
       "1894  ...  -8.676887 -1.807233 -0.954259 -1.940128  -0.078869  -4.358706   \n",
       "\n",
       "      diet_PC12  diet_PC13  month_sin     month_cos  \n",
       "0     -6.315116   1.225756  -0.500000 -8.660254e-01  \n",
       "1      0.901593   0.363685  -1.000000 -1.836970e-16  \n",
       "2     -0.004980   0.053056   0.866025  5.000000e-01  \n",
       "3      0.117349   0.051628   1.000000  6.123234e-17  \n",
       "4      0.397106  -0.121340   1.000000  6.123234e-17  \n",
       "...         ...        ...        ...           ...  \n",
       "1890   0.475944   0.163199  -1.000000 -1.836970e-16  \n",
       "1891   0.548988   0.182761  -1.000000 -1.836970e-16  \n",
       "1892   0.653121   0.242996  -1.000000 -1.836970e-16  \n",
       "1893  -0.902044   0.543864   0.500000 -8.660254e-01  \n",
       "1894  -0.742386   0.661089   0.500000 -8.660254e-01  \n",
       "\n",
       "[1895 rows x 26 columns]"
      ]
     },
     "execution_count": 6,
     "metadata": {},
     "output_type": "execute_result"
    }
   ],
   "source": [
    "new_metadata"
   ]
  },
  {
   "cell_type": "markdown",
   "id": "03436d52-6cdf-469b-b865-e3497e6b113e",
   "metadata": {},
   "source": [
    "## Data preprocessing"
   ]
  },
  {
   "cell_type": "markdown",
   "id": "bc80af4c-1d40-452c-8a57-c5ff946b6bb6",
   "metadata": {},
   "source": [
    "### Split to train-test"
   ]
  },
  {
   "cell_type": "code",
   "execution_count": 7,
   "id": "db7e283e-b859-499f-b1c6-5ed2d152a99c",
   "metadata": {},
   "outputs": [],
   "source": [
    "# sort data by collection date\n",
    "data = data.sort_values(by=\"collection_date\")\n",
    "train_df = data.copy()\n",
    "test_df = new_metadata[~new_metadata[\"sample\"].isin(data[\"sample\"])]\n",
    "\n",
    "test_df = test_df.reset_index(drop=True)\n",
    "train_df = train_df.reset_index(drop=True)"
   ]
  },
  {
   "cell_type": "code",
   "execution_count": 8,
   "id": "057568f1-9924-4682-ae7c-ed3bce571a4f",
   "metadata": {},
   "outputs": [],
   "source": [
    "meta_features_union = meta_features + [\"month_sin\", \"month_cos\"]"
   ]
  },
  {
   "cell_type": "markdown",
   "id": "8de24c20-4366-4e62-9f02-67852c9d5549",
   "metadata": {},
   "source": [
    "### Aggregation"
   ]
  },
  {
   "cell_type": "code",
   "execution_count": 9,
   "id": "c3b5f7b8-9814-4c1b-ab70-ffacecfb099d",
   "metadata": {},
   "outputs": [],
   "source": [
    "# aggregate to one sample per week\n",
    "train_df = aggregate_samples(train_df.copy())"
   ]
  },
  {
   "cell_type": "code",
   "execution_count": 10,
   "id": "1ea71c86-23ee-4e6a-ad9e-4a0a9f9c09c1",
   "metadata": {},
   "outputs": [],
   "source": [
    "train_df[\"collection_date\"] = pd.to_datetime(train_df[\"collection_date\"])\n",
    "taxa_columns = [col for col in train_df.columns if col not in meta_features_union]"
   ]
  },
  {
   "cell_type": "markdown",
   "id": "eeb67218-1267-4d8b-9b3e-a5e19a790ae9",
   "metadata": {},
   "source": [
    "## Train"
   ]
  },
  {
   "cell_type": "code",
   "execution_count": null,
   "id": "106744a1-c98b-4d2c-992c-feb0509b334f",
   "metadata": {},
   "outputs": [
    {
     "name": "stdout",
     "output_type": "stream",
     "text": [
      "start trend_pred\n",
      "finished trend_pred\n",
      "start seasonal_pred\n",
      "finished 100 out of 1695\n",
      "finished 200 out of 1695\n",
      "finished 300 out of 1695\n",
      "finished 400 out of 1695\n",
      "finished 500 out of 1695\n",
      "finished 600 out of 1695\n",
      "finished 700 out of 1695\n",
      "finished 800 out of 1695\n",
      "finished 900 out of 1695\n",
      "finished 1000 out of 1695\n",
      "finished 1100 out of 1695\n",
      "finished 1200 out of 1695\n",
      "finished 1300 out of 1695\n",
      "finished 1400 out of 1695\n",
      "finished 1500 out of 1695\n"
     ]
    }
   ],
   "source": [
    "pred_df = predict(train_df, test_df)\n",
    "pred_df.to_csv(\"pred_df.csv\")"
   ]
  },
  {
   "cell_type": "code",
   "execution_count": null,
   "id": "58dc1e26-a5fc-476d-91e0-681f5652cdc7",
   "metadata": {},
   "outputs": [],
   "source": [
    "dfskjlhlksdhsdfl"
   ]
  },
  {
   "cell_type": "markdown",
   "id": "e942d17f-b9a8-45c8-9609-52f4b5b5b47e",
   "metadata": {},
   "source": [
    "## Performance analysis"
   ]
  },
  {
   "cell_type": "code",
   "execution_count": null,
   "id": "3b629c09-1f77-4ff8-b6d8-1009ad6a4ba9",
   "metadata": {},
   "outputs": [],
   "source": [
    "# can be uncomment for loading the data from a csv file instead of running the predict function\n",
    "\n",
    "# pred_df = pd.read_csv(\"pred_df.csv\")"
   ]
  },
  {
   "cell_type": "code",
   "execution_count": null,
   "id": "51dd3ce2-81d7-4594-827e-9560ecff67f4",
   "metadata": {},
   "outputs": [],
   "source": [
    "# calculating Bray-Curtis score\n",
    "d_matrix = pairwise_distances(pred_df[y_test.columns], y_test, metric=\"braycurtis\").diagonal()\n",
    "pd.DataFrame(d_matrix).to_csv(\"braycurtis_performance.csv\")\n",
    "braycurtis_score = d_matrix.mean()"
   ]
  },
  {
   "cell_type": "markdown",
   "id": "d9ee3a44-cbf6-4ff4-b8da-fafcccf83d70",
   "metadata": {},
   "source": [
    "### Performance Analysis"
   ]
  },
  {
   "cell_type": "code",
   "execution_count": null,
   "id": "6eaac81b-4779-4f66-acf6-d5665c40f5e7",
   "metadata": {},
   "outputs": [],
   "source": [
    "print(f\"Bray-Curtis score: {round(braycurtis_score, 5)}\")"
   ]
  },
  {
   "cell_type": "code",
   "execution_count": null,
   "id": "e3e03071-fbf6-485e-addb-f6828a83d345",
   "metadata": {},
   "outputs": [],
   "source": [
    "analysis_df = test_df.copy()\n",
    "analysis_df[\"braycurtis_score\"] = d_matrix\n",
    "analysis_df.drop(columns=[\"interpolated\", \"month_sin\", \"month_cos\"], inplace=True)"
   ]
  },
  {
   "cell_type": "code",
   "execution_count": null,
   "id": "50d4801c-81eb-453a-8414-7872ee8a197a",
   "metadata": {},
   "outputs": [],
   "source": [
    "# Bray-Curtis Distribution\n",
    "plt.grid(False)\n",
    "sns.histplot(analysis_df[\"braycurtis_score\"], color=\"#46c1db\", bins=25, kde=True)\n",
    "plt.title(\"Bray-Curtis Distribution\")\n",
    "plt.xlabel(\"Bray-Curtis Score\")\n",
    "plt.xlim(0)\n",
    "plt.show()"
   ]
  },
  {
   "cell_type": "code",
   "execution_count": null,
   "id": "37466689-de71-4580-abce-828e6091e679",
   "metadata": {},
   "outputs": [],
   "source": [
    "# Bray-Curtis Distribution\n",
    "plt.grid(False)\n",
    "sns.histplot(analysis_df.groupby(\"baboon_id\")[[\"braycurtis_score\"]].agg(\"mean\")[\"braycurtis_score\"], color=\"#46c1db\", bins=25, kde=True)\n",
    "plt.title(\"Average Bray-Curtis per Baboon\")\n",
    "plt.xlabel(\"Average per Baboon\")\n",
    "plt.show()"
   ]
  },
  {
   "cell_type": "code",
   "execution_count": null,
   "id": "b86cd52e-5868-4783-9ebc-ce42aca79e95",
   "metadata": {},
   "outputs": [],
   "source": [
    "# Bray-Curtis by sex\n",
    "plt.grid(False)\n",
    "sns.violinplot(data=analysis_df, hue=\"sex\", y=\"braycurtis_score\", palette=\"muted\")\n",
    "plt.title(\"Bray-Curtis per Sex\")\n",
    "plt.xlabel(\"Sex\")\n",
    "plt.ylabel(\"Bray-Curtis Score\")\n",
    "plt.show()"
   ]
  },
  {
   "cell_type": "code",
   "execution_count": null,
   "id": "b55e0c9e-c58d-46c9-8293-ea164e3055c5",
   "metadata": {},
   "outputs": [],
   "source": [
    "# Bray-Curtis per Baboon\n",
    "plt.figure(figsize=(30, 6))\n",
    "plt.grid(True)\n",
    "analysis_df[\"baboon_mean\"] = analysis_df.groupby(\"baboon_id\")[[\"braycurtis_score\"]].transform(\"median\")[\"braycurtis_score\"]\n",
    "sns.violinplot(data=analysis_df.sort_values(\"baboon_mean\"), hue=\"baboon_id\", y=\"braycurtis_score\", palette=\"muted\", legend=False)\n",
    "plt.title(\"Bray-Curtis per Baboon\")\n",
    "plt.xlabel(\"Baboon\")\n",
    "plt.xlim((-0.41,0.41))\n",
    "plt.ylabel(\"Bray-Curtis Score\")\n",
    "plt.show()"
   ]
  },
  {
   "cell_type": "code",
   "execution_count": null,
   "id": "7f3edbb2-1f24-4491-9808-82888e978373",
   "metadata": {},
   "outputs": [],
   "source": [
    "# creating a dictionary of babbon_id:last known sample\n",
    "d = dict()\n",
    "for baboon_id in train_df[\"baboon_id\"].unique():\n",
    "    d[baboon_id] = [sorted(train_df[train_df[\"baboon_id\"] == baboon_id][\"collection_date\"].to_list())[-1]]\n",
    "df1 = pd.DataFrame(d).T\n",
    "merged_df = analysis_df.merge(df1, left_on=\"baboon_id\", right_index=True)"
   ]
  },
  {
   "cell_type": "code",
   "execution_count": null,
   "id": "9f7d9382-14fa-4974-8bd8-106dd0bb7a88",
   "metadata": {},
   "outputs": [],
   "source": [
    "# computing the distance between each sample to the last one in the train dataset\n",
    "merged_df.rename(columns={0:\"last_timepoint\"}, inplace=True)\n",
    "merged_df[\"dist_in_days\"] = 0\n",
    "merged_df[\"dist_in_days\"] = merged_df.apply(lambda row: np.abs(row[\"collection_date\"] - row[\"last_timepoint\"]).total_seconds() / (60 * 60 * 24), axis=1)"
   ]
  },
  {
   "cell_type": "code",
   "execution_count": null,
   "id": "ec220b0b-2e9b-4532-bfa7-c2fd0ccf6147",
   "metadata": {},
   "outputs": [],
   "source": [
    "# plot the Bray-Curtis score for the distances in days\n",
    "mean_by_dist = merged_df.groupby(\"dist_in_days\")[[\"braycurtis_score\"]].mean()\n",
    "plt.figure(figsize=(30, 6))\n",
    "sns.regplot(x=mean_by_dist.index, y=mean_by_dist[\"braycurtis_score\"], color=\"#46c1db\")\n",
    "plt.xlabel(\"Distance From the Last Known Sample (Days)\")\n",
    "plt.title(\"Bray-Curtis Score by Distance in Days From the Last Known Sample\")\n",
    "#plt.xscale(\"log\")\n",
    "plt.xlim(0)\n",
    "plt.show()"
   ]
  },
  {
   "cell_type": "code",
   "execution_count": null,
   "id": "9f7a7d61-daaf-4be5-aebf-7b5a93d9f35c",
   "metadata": {},
   "outputs": [],
   "source": [
    "# plot the Bray-Curtis score for the distances in days\n",
    "mean_by_dist = merged_df.groupby(\"dist_in_days\")[[\"braycurtis_score\"]].mean()\n",
    "plt.figure(figsize=(30, 6))\n",
    "sns.regplot(x=mean_by_dist.index, y=mean_by_dist[\"braycurtis_score\"], color=\"#46c1db\")\n",
    "plt.xlabel(\"Distance From the Last Known Sample (Days), log scale\")\n",
    "plt.title(\"Bray-Curtis Score by Distance in Days From the Last Known Sample\")\n",
    "plt.xscale(\"log\")\n",
    "plt.xlim(0)\n",
    "plt.show()"
   ]
  },
  {
   "cell_type": "markdown",
   "id": "5dfb5fc8-4ec0-451f-939e-c26ceee68c90",
   "metadata": {},
   "source": [
    "### Milestone 3 Plots - Parameter Tuning"
   ]
  },
  {
   "cell_type": "code",
   "execution_count": null,
   "id": "0ae86e0c-8d0b-4db9-9ca3-cc1c2bf42bc3",
   "metadata": {},
   "outputs": [],
   "source": [
    "def plot_fig(df, line, log=False, x=\"Weight\"):\n",
    "    plt.figure(figsize=(8, 6))\n",
    "    plt.plot(df[\"seasonal weight\"], df[\"avg_bray_curtis\"])\n",
    "    if log:\n",
    "        plt.xscale(\"log\")\n",
    "    plt.axvline(x = line, color = 'black', linestyle = '--') \n",
    "    \n",
    "    #ticks = df[~df[\"weight\"].isin([0.15, 0.25, 0.3, 0.4])][\"weight\"].tolist()\n",
    "    #plt.xticks(ticks, ticks, rotation=30)\n",
    "    plt.ylabel(\"Bray-Curtis Score\")\n",
    "    plt.xlabel(x)\n",
    "    plt.show()"
   ]
  },
  {
   "cell_type": "code",
   "execution_count": null,
   "id": "569701a8-7ccf-4bb2-92a7-64b603b9df55",
   "metadata": {},
   "outputs": [],
   "source": [
    "season_param_df = pd.read_csv(\"./hyperparam tuning\\hyperparam tuning - seasonal\\seasonal_hyperparam_season.csv\").sort_values(by=\"weight\")\n",
    "identity_param_df = pd.read_csv(\"./hyperparam tuning\\hyperparam tuning - seasonal\\seasonal_hyperparam_identity.csv\").sort_values(by=\"weight\")\n",
    "diet_param_df = pd.read_csv(\"./hyperparam tuning\\hyperparam tuning - seasonal\\seasonal_hyperparam_diet.csv\").sort_values(by=\"weight\")"
   ]
  },
  {
   "cell_type": "code",
   "execution_count": null,
   "id": "f92f2a77-64f4-4ca6-a857-741cead2bce9",
   "metadata": {},
   "outputs": [],
   "source": [
    "plot_fig(season_param_df, line =  0.35, log=True)\n",
    "plot_fig(identity_param_df, line = 0.1, log=True)\n",
    "plot_fig(diet_param_df, line = 0.025, log=True)"
   ]
  },
  {
   "cell_type": "code",
   "execution_count": null,
   "id": "9f73f2f7-a592-4ebb-b662-e2a0fa182dd5",
   "metadata": {},
   "outputs": [],
   "source": [
    "trend_param_df = pd.read_csv(\"./hyperparam tuning/trend_hyperparam.csv\").sort_values(by=\"weight\")"
   ]
  },
  {
   "cell_type": "code",
   "execution_count": null,
   "id": "36e68e9e-56cb-48b7-83b7-21fbbfba2ae3",
   "metadata": {},
   "outputs": [],
   "source": [
    "plot_fig(trend_param_df, line = 80, log=False, x=\"Number of Samples\")"
   ]
  },
  {
   "cell_type": "code",
   "execution_count": null,
   "id": "c45a6195-d482-448e-bb46-4ac0f40d3c2b",
   "metadata": {},
   "outputs": [],
   "source": [
    "seasonal_vs_trend_df = pd.read_csv(\"./hyperparam tuning/trend_seasonal_default.csv\").sort_values(by=\"seasonal weight\")\n",
    "seasonal_vs_trend_extrapolation_df = pd.read_csv(\"./hyperparam tuning/trend_seasonal_extrapolation.csv\").sort_values(by=\"seasonal weight\")"
   ]
  },
  {
   "cell_type": "code",
   "execution_count": null,
   "id": "d72040ac-f358-416b-a853-8a2ffe91c62b",
   "metadata": {},
   "outputs": [],
   "source": [
    "plot_fig(seasonal_vs_trend_df, line = 0.5, log=False, x=\"Seasonal Weight\")\n",
    "plot_fig(seasonal_vs_trend_extrapolation_df, line = 0.8, log=False, x=\"Seasonal Weight\")"
   ]
  },
  {
   "cell_type": "code",
   "execution_count": null,
   "id": "b3d88741-7b3f-4ab7-a0b6-91370c425336",
   "metadata": {},
   "outputs": [],
   "source": []
  }
 ],
 "metadata": {
  "kernelspec": {
   "display_name": "Python 3 (ipykernel)",
   "language": "python",
   "name": "python3"
  },
  "language_info": {
   "codemirror_mode": {
    "name": "ipython",
    "version": 3
   },
   "file_extension": ".py",
   "mimetype": "text/x-python",
   "name": "python",
   "nbconvert_exporter": "python",
   "pygments_lexer": "ipython3",
   "version": "3.9.7"
  }
 },
 "nbformat": 4,
 "nbformat_minor": 5
}
